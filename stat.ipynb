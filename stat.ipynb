{
 "cells": [
  {
   "cell_type": "code",
   "execution_count": 118,
   "metadata": {
    "collapsed": true
   },
   "outputs": [],
   "source": [
    "# import packages\n",
    "import pandas as pd\n",
    "import scipy.stats\n",
    "from scipy.stats import chi2_contingency\n",
    "from scipy.stats import mannwhitneyu\n",
    "\n",
    "# read input data\n",
    "df = pd.read_pickle(\"accidents.pkl.gz\")\n",
    "# TODO drop invalid values in both tests"
   ]
  },
  {
   "cell_type": "markdown",
   "source": [
    "### Hypotéza 1\n",
    "*Na silnicích první třídy se při nehodách umíralo se stejnou pravděpodobností jako dálnicích.*\n",
    "\n",
    "K ověření hypotézy využijte $\\chi^2$ test s tím, že také určíte, jestli nehody na silnicích 1. třídy vedly častěji či méně často k fatální nehodě. V tom vám může pomoct “expected” výstup $\\chi^2$ testu. Nerozlišujte počet následků, ale pouze nehody, kde došlo k jednomu a více úmrtí (p13a > 0)."
   ],
   "metadata": {
    "collapsed": false,
    "pycharm": {
     "name": "#%% md\n"
    }
   }
  },
  {
   "cell_type": "code",
   "execution_count": 115,
   "outputs": [
    {
     "name": "stdout",
     "output_type": "stream",
     "text": [
      "Na hladině významnosti 0.05 zamítáme hypotézu:\n",
      "\t\"Na silnicích první třídy se při nehodách umíralo se stejnou pravděpodobností jako dálnicích.\"\n",
      "\n",
      "Kontingenční tabulka (ctab):\n",
      "highway  False   True\n",
      "fatal                \n",
      "False    78618  24293\n",
      "True       911    166\n",
      "\n",
      "Předpokládané chi2_contingency hodnoty (expected):\n",
      "[[78705.32098896 24205.67901104]\n",
      " [  823.67901104   253.32098896]]\n",
      "\n",
      "ctab - expected:\n",
      "highway      False       True\n",
      "fatal                        \n",
      "False   -87.320989  87.320989\n",
      "True     87.320989 -87.320989\n"
     ]
    }
   ],
   "source": [
    "# In this task, we compare accidents from first class roads and highways, so ignore the rest\n",
    "df_h1 = df[ (df[\"p36\"] == 1) | (df[\"p36\"] == 0)].copy()\n",
    "\n",
    "df_h1[\"fatal\"] = False\n",
    "df_h1.loc[df_h1[\"p13a\"] > 0, \"fatal\"] = True\n",
    "\n",
    "df_h1[\"highway\"] = False\n",
    "df_h1.loc[df_h1[\"p36\"] == 0, \"highway\"] = True\n",
    "\n",
    "ctab = pd.crosstab(\n",
    "    index=df_h1[\"fatal\"],\n",
    "    columns=df_h1[\"highway\"],\n",
    ")\n",
    "stat, p_value, dof, expected = chi2_contingency(ctab)\n",
    "\n",
    "if p_value < 0.05:\n",
    "    print('Na hladině významnosti 0.05 zamítáme hypotézu:')\n",
    "else:\n",
    "    print('Na hladině významnosti 0.05 přijimáme hypotézu:')\n",
    "print('\\t\"Na silnicích první třídy se při nehodách umíralo se stejnou pravděpodobností jako dálnicích.\"')\n",
    "\n",
    "print(\"\\nKontingenční tabulka (ctab):\")\n",
    "print(ctab)\n",
    "print(\"\\nPředpokládané chi2_contingency hodnoty (expected):\")\n",
    "print(expected)\n",
    "print(\"\\nctab - expected:\")\n",
    "print(ctab - expected)"
   ],
   "metadata": {
    "collapsed": false,
    "pycharm": {
     "name": "#%%\n"
    }
   }
  },
  {
   "cell_type": "markdown",
   "source": [
    "Kromě toho, že hypotéza byla zamítnuta, je z výstupu předchozí buňky (konkrétně z výsledku $ctab - expected$) zřejmé:\n",
    "Počet smrtelných nehod na silnicích 1. třídy je o 87 vyšší, než se předpokládalo. Zatímco počet smrtelných nehod na dálnicích je o 87 nižší, než se předpokládalo.\n",
    "Z toho můžeme odvodit, že nehody na silnicích 1. třídy vedly častěji k fatální nehodě, než nehody na dálnicích."
   ],
   "metadata": {
    "collapsed": false,
    "pycharm": {
     "name": "#%% md\n"
    }
   }
  },
  {
   "cell_type": "markdown",
   "source": [
    "### Hypotéza 2\n",
    "*Při nehodách vozidel značky Škoda je škoda na vozidle nižší než při nehodách vozidel Audi.*\n",
    "\n",
    "Využijte vhodný test a určete, zda je škoda na vozidlech vyšší či nižší a zda je tato vlastnost\n",
    "na požadované hladině významnosti."
   ],
   "metadata": {
    "collapsed": false,
    "pycharm": {
     "name": "#%% md\n"
    }
   }
  },
  {
   "cell_type": "code",
   "execution_count": 117,
   "outputs": [
    {
     "name": "stdout",
     "output_type": "stream",
     "text": [
      "Na hladině významnosti 0.05 zamítáme hypotézu:\n",
      "\tPři nehodách vozidel značky Škoda je škoda na vozidle nižší než při nehodách vozidel Audi.\n"
     ]
    }
   ],
   "source": [
    "audi = df.loc[df[\"p45a\"] == 2, \"p53\"]\n",
    "skoda = df.loc[df[\"p45a\"] == 39, \"p53\"]\n",
    "\n",
    "stat, p_value = mannwhitneyu(audi, skoda)\n",
    "if p_value < 0.05:\n",
    "    print('Na hladině významnosti 0.05 zamítáme hypotézu:')\n",
    "else:\n",
    "    print('Na hladině významnosti 0.05 přijimáme hypotézu:')\n",
    "print('\\tPři nehodách vozidel značky Škoda je škoda na vozidle nižší než při nehodách vozidel Audi.')"
   ],
   "metadata": {
    "collapsed": false,
    "pycharm": {
     "name": "#%%\n"
    }
   }
  },
  {
   "cell_type": "code",
   "execution_count": null,
   "outputs": [],
   "source": [],
   "metadata": {
    "collapsed": false,
    "pycharm": {
     "name": "#%%\n"
    }
   }
  }
 ],
 "metadata": {
  "kernelspec": {
   "display_name": "Python 3",
   "language": "python",
   "name": "python3"
  },
  "language_info": {
   "codemirror_mode": {
    "name": "ipython",
    "version": 2
   },
   "file_extension": ".py",
   "mimetype": "text/x-python",
   "name": "python",
   "nbconvert_exporter": "python",
   "pygments_lexer": "ipython2",
   "version": "2.7.6"
  }
 },
 "nbformat": 4,
 "nbformat_minor": 0
}